{
 "cells": [
  {
   "cell_type": "markdown",
   "metadata": {},
   "source": [
    "# Node.js Streams homework"
   ]
  },
  {
   "cell_type": "markdown",
   "metadata": {},
   "source": [
    "### Reference\n",
    "* Short intro https://nodejs.dev/learn/nodejs-streams\n",
    "* Node.js docs https://nodejs.org/api/stream.html"
   ]
  },
  {
   "cell_type": "markdown",
   "metadata": {},
   "source": [
    "### Warning\n",
    "\n",
    "If you encounter ```SyntaxError: Identifier <some-variable-name> has already been declared```\n",
    "go to Kernel -> Restart in order to clear all declared variables."
   ]
  },
  {
   "cell_type": "markdown",
   "metadata": {},
   "source": [
    "### Task 1\n",
    "You will have to apply the concepts presented at class in order to convert an audio file from a format to another without reading it entirely into memory.\n",
    "\n",
    "This process is generically called transcoding, although sometimes transmuxing is a more accurate term. You will understand the difference after you solve task 2.\n",
    "\n",
    "Since an image is worth a thousand words, here is what you'll actually do (in a streamed fashion):\n",
    "\n",
    "![title](../img/transcoding.png)"
   ]
  },
  {
   "cell_type": "markdown",
   "metadata": {},
   "source": [
    "### Solution"
   ]
  },
  {
   "cell_type": "markdown",
   "metadata": {},
   "source": [
    "Please, don't change anything in the ```DON'T CHANGE``` sections of the code.\n",
    "\n",
    "You can test that the conversion is successfully done by accessing http://localhost:5000/, where you have an audio player.\n",
    "\n",
    "I suggest opening the url in an incognito session to prevent browser caching."
   ]
  },
  {
   "cell_type": "code",
   "execution_count": null,
   "metadata": {},
   "outputs": [],
   "source": [
    "'use strict';\n",
    "\n",
    "///////////// DON'T CHANGE /////////////\n",
    "// check docs for https://www.npmjs.com/package/prism-media\n",
    "const prism = require('prism-media');\n",
    "\n",
    "///////////////////////////////////////\n",
    "\n",
    "// You can add your dependencies here. \n",
    "// Note that you should use only Node.js builtin modules.\n",
    "// aka no third-party dependencies allowed, like the one above.\n",
    "const fs = require('fs');\n",
    "\n",
    "\n",
    "///////////// DON'T CHANGE /////////////\n",
    "const SOURCE_FILE = '../data/weekend.mp3';\n",
    "const DESTINATION_FILE = '../www/static/audio.ogg';\n",
    "\n",
    "const OUT_MUXER = 'ogg';\n",
    "const OUT_SAMPLE_RATE = '48000';\n",
    "const OUT_NUM_CHANNELS = '2';\n",
    "\n",
    "const transcoder = new prism.FFmpeg({\n",
    "  args: [\n",
    "    '-analyzeduration', '0',\n",
    "    '-loglevel', '0',\n",
    "    '-f', OUT_MUXER,\n",
    "    '-ar', OUT_SAMPLE_RATE,\n",
    "    '-ac', OUT_NUM_CHANNELS,\n",
    "  ],\n",
    "});\n",
    "///////////////////////////////////////\n",
    "const in_ = fs.createReadStream(SOURCE_FILE);\n",
    "const out_=fs.createWriteStream(DESTINATION_FILE);\n",
    "\n",
    "in_\n",
    "    .pipe(transcoder)\n",
    "    .pipe(out_);\n",
    "\n",
    "// You can add your logic here.\n",
    "// Note that you should use only Node.js Stream APIs.\n",
    "// aka reading of the whole file in memory and afterwards converting it is not scored.\n"
   ]
  },
  {
   "cell_type": "markdown",
   "metadata": {},
   "source": [
    "### Task 2\n",
    "\n",
    "Use the following code to find out what codec is used by the source file and by the destination file, respectively.\n",
    "\n",
    "Also answer to the following questions:\n",
    "1. What's the difference between container and codec?\n",
    "2. What format do you think is more appropriate for live streaming conferences? (the one used by the source file, or the one used by the destionation file)"
   ]
  },
  {
   "cell_type": "code",
   "execution_count": null,
   "metadata": {},
   "outputs": [],
   "source": [
    "const { spawn } = require('child_process');\n",
    "const ffprobe = require('ffprobe-static');\n",
    "\n",
    "if (process.argv.length < 3) {\n",
    "    console.error('Command format: node probe.js <path-to-media-file>');\n",
    "}\n",
    "\n",
    "const command = ffprobe.path;\n",
    "const args = [\n",
    "    '-v', 'error',\n",
    "    '-select_streams', 'a:0',\n",
    "    '-show_entries', 'stream=codec_long_name',\n",
    "    '-of', 'default=noprint_wrappers=1:nokey=1',\n",
    "    'data/weekend.mp3'\n",
    "];\n",
    "\n",
    "const subprocess = spawn(command, args, { stdio: 'inherit' });\n",
    "subprocess.on('exit', (code, signal) => {\n",
    "\n",
    "    if (code !== null) {\n",
    "\n",
    "        if (code === 0) {\n",
    "            console.log('Process exit with succes');\n",
    "            return;\n",
    "        }\n",
    "\n",
    "        console.error(`Process exit code ${code}`);\n",
    "        return;\n",
    "    }\n",
    "\n",
    "    if (signal !== null) {\n",
    "        console.error(`Process killed with signal ${signal}`);\n",
    "    }\n",
    "});\n"
   ]
  },
  {
   "cell_type": "code",
   "execution_count": null,
   "metadata": {},
   "outputs": [],
   "source": [
    "Input File : MP3 (MPEG audio layer 3)\n",
    "Output File : Vorbis "
   ]
  },
  {
   "cell_type": "code",
   "execution_count": null,
   "metadata": {},
   "outputs": [],
   "source": [
    "The codec is the the method for encoding/decoding data , a protocol for compressing data.\n",
    "The container is the actual format , it takes care of packaging and transport of the data."
   ]
  },
  {
   "cell_type": "code",
   "execution_count": null,
   "metadata": {},
   "outputs": [],
   "source": [
    "In my opinion Vorbis is better for streaming \n",
    "because it seems to be better compressed , it sounds better than mp3 and has better encodings."
   ]
  }
 ],
 "metadata": {
  "kernelspec": {
   "display_name": "Javascript (Node.js)",
   "language": "javascript",
   "name": "javascript"
  },
  "language_info": {
   "file_extension": ".js",
   "mimetype": "application/javascript",
   "name": "javascript",
   "version": "16.2.0"
  }
 },
 "nbformat": 4,
 "nbformat_minor": 2
}
